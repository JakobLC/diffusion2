{
 "cells": [
  {
   "cell_type": "code",
   "execution_count": 55,
   "metadata": {},
   "outputs": [
    {
     "name": "stdout",
     "output_type": "stream",
     "text": [
      "The autoreload extension is already loaded. To reload it, use:\n",
      "  %reload_ext autoreload\n"
     ]
    }
   ],
   "source": [
    "%load_ext autoreload\n",
    "%autoreload 2\n",
    "%matplotlib inline\n",
    "import matplotlib.pyplot as plt\n",
    "from source.datasets import CatBallDataset, AnalogBits, custom_collate_with_info\n",
    "import numpy as np\n",
    "import jlc\n",
    "import torch\n"
   ]
  },
  {
   "cell_type": "code",
   "execution_count": 14,
   "metadata": {},
   "outputs": [
    {
     "name": "stdout",
     "output_type": "stream",
     "text": [
      "The autoreload extension is already loaded. To reload it, use:\n",
      "  %reload_ext autoreload\n",
      "Namespace(attention_resolutions='-2,-1', bce_loss=False, betas='0.9,0.999', cat_ball_data=False, clip_denoised=True, conditioning_type='none', datasets='non-medical', datasets_as_classes=False, deeper_net=True, dropout=0.0, ema_rate='0.9999', eval_batch_size=0, eval_ema_step=50000, eval_guidance_weight=0.0, eval_interval=5000, eval_num_steps=100, fp16_scale_growth=0.001, gamma_clip_min=1e-09, image_size=32, input_scale=1.0, log_train_metrics='loss', log_vali_interval=200, logs_folder='../logs2/', loss_weights='uniform', lr=0.0001, lr_decay_steps=0, lr_decay_type='linear', lr_warmup_steps=0, lr_warmup_type='linear', major_vote_number=5, max_iter=100000, max_num_classes=8, min_label_size=0.01, model_name='test', model_str='model*', no_diffusion=False, no_image_prob=0.1, no_label_prob=0.1, noise_schedule='linear', num_channels=64, num_classes=0, num_heads=4, num_heads_upsample=-1, num_res_blocks=3, num_save_samples=8, num_save_samples_fixed=8, num_vali_batches=8, predict='x', resume_ckpt_name='', resume_from_step=False, run_without_test=False, sample_function='cat,grid,single,inter', save_best_ckpt=False, save_ckpt_steps='-1', save_interval=5000, save_path='', save_train_samples=True, schedule_sampler='uniform', seed=-1, self_conditioning=False, sigma_small=False, split_ratio='0.8,0.1,0.1', time_cond_type='t', train_batch_size=32, update_foward_pass_plot_interval=200, update_loss_plot_interval=200, use_fp16=True, use_scale_shift_norm=False, weak_signals=False, weight_decay=0.0)\n"
     ]
    },
    {
     "data": {
      "text/plain": [
       "'0.9999'"
      ]
     },
     "execution_count": 14,
     "metadata": {},
     "output_type": "execute_result"
    }
   ],
   "source": [
    "%load_ext autoreload\n",
    "%autoreload 2\n",
    "import sys, os\n",
    "sys.path.append('./source/')\n",
    "from source.utils import write_args, model_and_diffusion_defaults, SmartParser\n",
    "from argparse import Namespace\n",
    "args = SmartParser().get_args(do_parse_args=False)\n",
    "print(args)\n",
    "#write_args(args, \"./saves/test/args.json\")\n",
    "args.ema_rate"
   ]
  },
  {
   "cell_type": "code",
   "execution_count": 2,
   "metadata": {},
   "outputs": [
    {
     "name": "stdout",
     "output_type": "stream",
     "text": [
      "C:\\Users\\Janus\\Desktop\\diff\\diffusion2\\source\\asdasg.png\n",
      "C:\\Users\\Janus\\Desktop\\diff\\diffusion2\\source\n"
     ]
    }
   ],
   "source": [
    "filename = r\"C:\\Users\\Janus\\Desktop\\diff\\diffusion2\\source\\asdasg.png\"\n",
    "\n",
    "import os\n",
    "print(filename)\n",
    "print(os.path.dirname(filename))"
   ]
  }
 ],
 "metadata": {
  "kernelspec": {
   "display_name": "segdiff3",
   "language": "python",
   "name": "python3"
  },
  "language_info": {
   "codemirror_mode": {
    "name": "ipython",
    "version": 3
   },
   "file_extension": ".py",
   "mimetype": "text/x-python",
   "name": "python",
   "nbconvert_exporter": "python",
   "pygments_lexer": "ipython3",
   "version": "3.8.12"
  }
 },
 "nbformat": 4,
 "nbformat_minor": 2
}
