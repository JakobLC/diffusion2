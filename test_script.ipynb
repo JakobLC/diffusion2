{
 "cells": [
  {
   "cell_type": "code",
   "execution_count": 55,
   "metadata": {},
   "outputs": [
    {
     "name": "stdout",
     "output_type": "stream",
     "text": [
      "The autoreload extension is already loaded. To reload it, use:\n",
      "  %reload_ext autoreload\n"
     ]
    }
   ],
   "source": [
    "%load_ext autoreload\n",
    "%autoreload 2\n",
    "%matplotlib inline\n",
    "import matplotlib.pyplot as plt\n",
    "from source.datasets import CatBallDataset, AnalogBits, custom_collate_with_info\n",
    "import numpy as np\n",
    "import jlc\n",
    "import torch\n"
   ]
  },
  {
   "cell_type": "code",
   "execution_count": 14,
   "metadata": {},
   "outputs": [
    {
     "name": "stdout",
     "output_type": "stream",
     "text": [
      "The autoreload extension is already loaded. To reload it, use:\n",
      "  %reload_ext autoreload\n",
      "Namespace(attention_resolutions='-2,-1', bce_loss=False, betas='0.9,0.999', cat_ball_data=False, clip_denoised=True, conditioning_type='none', datasets='non-medical', datasets_as_classes=False, deeper_net=True, dropout=0.0, ema_rate='0.9999', eval_batch_size=0, eval_ema_step=50000, eval_guidance_weight=0.0, eval_interval=5000, eval_num_steps=100, fp16_scale_growth=0.001, gamma_clip_min=1e-09, image_size=32, input_scale=1.0, log_train_metrics='loss', log_vali_interval=200, logs_folder='../logs2/', loss_weights='uniform', lr=0.0001, lr_decay_steps=0, lr_decay_type='linear', lr_warmup_steps=0, lr_warmup_type='linear', major_vote_number=5, max_iter=100000, max_num_classes=8, min_label_size=0.01, model_name='test', model_str='model*', no_diffusion=False, no_image_prob=0.1, no_label_prob=0.1, noise_schedule='linear', num_channels=64, num_classes=0, num_heads=4, num_heads_upsample=-1, num_res_blocks=3, num_save_samples=8, num_save_samples_fixed=8, num_vali_batches=8, predict='x', resume_ckpt_name='', resume_from_step=False, run_without_test=False, sample_function='cat,grid,single,inter', save_best_ckpt=False, save_ckpt_steps='-1', save_interval=5000, save_path='', save_train_samples=True, schedule_sampler='uniform', seed=-1, self_conditioning=False, sigma_small=False, split_ratio='0.8,0.1,0.1', time_cond_type='t', train_batch_size=32, update_foward_pass_plot_interval=200, update_loss_plot_interval=200, use_fp16=True, use_scale_shift_norm=False, weak_signals=False, weight_decay=0.0)\n"
     ]
    },
    {
     "data": {
      "text/plain": [
       "'0.9999'"
      ]
     },
     "execution_count": 14,
     "metadata": {},
     "output_type": "execute_result"
    }
   ],
   "source": [
    "%load_ext autoreload\n",
    "%autoreload 2\n",
    "import sys, os\n",
    "sys.path.append('./source/')\n",
    "from source.utils import write_args, model_and_diffusion_defaults, SmartParser\n",
    "from argparse import Namespace\n",
    "args = SmartParser().get_args(do_parse_args=False)\n",
    "print(args)\n",
    "#write_args(args, \"./saves/test/args.json\")\n",
    "args.ema_rate"
   ]
  },
  {
   "cell_type": "code",
   "execution_count": 10,
   "metadata": {},
   "outputs": [],
   "source": [
    "%matplotlib inline"
   ]
  },
  {
   "cell_type": "code",
   "execution_count": 55,
   "metadata": {},
   "outputs": [
    {
     "data": {
      "text/plain": [
       "<matplotlib.image.AxesImage at 0x75571d001fd0>"
      ]
     },
     "execution_count": 55,
     "metadata": {},
     "output_type": "execute_result"
    },
    {
     "data": {
      "image/png": "[encoded data removed]",
      "text/plain": [
       "<Figure size 2000x200 with 1 Axes>"
      ]
     },
     "metadata": {},
     "output_type": "display_data"
    }
   ],
   "source": [
    "import matplotlib.pyplot as plt\n",
    "import matplotlib\n",
    "import numpy as np\n",
    "from PIL import Image\n",
    "from tempfile import NamedTemporaryFile\n",
    "import cv2\n",
    "import warnings\n",
    "\n",
    "def render_axis_ticks(image_width=1000,\n",
    "                      num_uniform_spaced=None,\n",
    "                      bg_color=\"white\",\n",
    "                      xtick_kwargs={\"labels\": np.arange(5)},\n",
    "                      tick_params={}):\n",
    "    old_backend = matplotlib.rcParams['backend']\n",
    "    old_dpi = matplotlib.rcParams['figure.dpi']\n",
    "    dpi = 100\n",
    "    if num_uniform_spaced is None:\n",
    "        num_uniform_spaced = len(xtick_kwargs[\"labels\"])\n",
    "    n = num_uniform_spaced\n",
    "     \n",
    "    matplotlib.rcParams['figure.dpi'] = dpi\n",
    "    matplotlib.use('Agg')\n",
    "    try:        \n",
    "        fig = plt.figure(figsize=(image_width/dpi, 1e-15), facecolor=bg_color)\n",
    "        ax = plt.Axes(fig, [0., 0., 1., 1.])\n",
    "        ax.set_facecolor(bg_color)\n",
    "        ax.set_frame_on(False)\n",
    "        ax.tick_params(**tick_params)\n",
    "        fig.add_axes(ax)\n",
    "        \n",
    "        plt.yticks([])\n",
    "        plt.xlim(0, n)\n",
    "        x_pos = np.linspace(0.5,n-0.5,n)\n",
    "        if not \"ticks\" in xtick_kwargs:\n",
    "            xtick_kwargs[\"ticks\"] = x_pos[:len(xtick_kwargs[\"labels\"])]\n",
    "        else:\n",
    "            if xtick_kwargs[\"ticks\"] is None:\n",
    "                xtick_kwargs[\"ticks\"] = x_pos[:len(xtick_kwargs[\"labels\"])]\n",
    "        plt.xticks(**xtick_kwargs)\n",
    "        \n",
    "        \n",
    "        warnings.filterwarnings(\"ignore\") #avoid warning about agg backend not showing anything\n",
    "        fig.show()\n",
    "        warnings.resetwarnings()\n",
    "\n",
    "        with NamedTemporaryFile(suffix=\".png\", delete=False) as temp_file:\n",
    "            temp_filename = temp_file.name\n",
    "            fig.savefig(temp_filename, format='png', bbox_inches='tight', pad_inches=0)\n",
    "        im = np.array(Image.open(temp_filename))\n",
    "        if not im.shape[1]==image_width:\n",
    "            #reshape with cv2 linear interpolation\n",
    "            warnings.warn(\"Image width is not as expected, likely due to too large text labels. Reshaping with cv2 linear interpolation.\")\n",
    "            im = cv2.resize(im, (image_width, im.shape[0]), interpolation=cv2.INTER_LINEAR)\n",
    "\n",
    "        matplotlib.use(old_backend)\n",
    "        matplotlib.rcParams['figure.dpi'] = old_dpi\n",
    "    except:\n",
    "        matplotlib.use(old_backend)\n",
    "        matplotlib.rcParams['figure.dpi'] = old_dpi\n",
    "        raise\n",
    "    return im\n",
    "\n",
    "#test for empty image without ticks\n",
    "im = render_axis_ticks(23,bg_color=\"red\",xtick_kwargs={\"labels\": [\"  \"]}, tick_params={\"bottom\": False})\n",
    "plt.figure(figsize=(20,2))\n",
    "plt.imshow(im)"
   ]
  },
  {
   "cell_type": "code",
   "execution_count": 8,
   "metadata": {},
   "outputs": [
    {
     "name": "stdout",
     "output_type": "stream",
     "text": [
      "(37, 1000, 4)\n"
     ]
    },
    {
     "data": {
      "text/plain": [
       "<matplotlib.image.AxesImage at 0x755729a0ae80>"
      ]
     },
     "execution_count": 8,
     "metadata": {},
     "output_type": "execute_result"
    }
   ],
   "source": [
    "\n",
    "\n",
    "im = render_axis_ticks(bg_color=\"white\",xtick_kwargs={\"labels\":[\"1\",\"tgwo\",\"three\",\"four\",\"five\"], \"fontsize\":20})\n",
    "print(im.shape)\n",
    "plt.figure(figsize=(15,2))\n",
    "plt.imshow(im)"
   ]
  },
  {
   "cell_type": "code",
   "execution_count": 3,
   "metadata": {},
   "outputs": [
    {
     "data": {
      "text/plain": [
       "<jlc.functions.zoom at 0x7557327d2c70>"
      ]
     },
     "execution_count": 3,
     "metadata": {},
     "output_type": "execute_result"
    }
   ],
   "source": [
    "%matplotlib qt\n",
    "import jlc\n",
    "\n",
    "plt.figure(figsize=(15,2))\n",
    "plt.imshow(im)\n",
    "jlc.zoom()\n"
   ]
  }
 ],
 "metadata": {
  "kernelspec": {
   "display_name": "segdiff3",
   "language": "python",
   "name": "python3"
  },
  "language_info": {
   "codemirror_mode": {
    "name": "ipython",
    "version": 3
   },
   "file_extension": ".py",
   "mimetype": "text/x-python",
   "name": "python",
   "nbconvert_exporter": "python",
   "pygments_lexer": "ipython3",
   "version": "3.8.18"
  }
 },
 "nbformat": 4,
 "nbformat_minor": 2
}
