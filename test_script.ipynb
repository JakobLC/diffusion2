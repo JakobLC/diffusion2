{
 "cells": [
  {
   "cell_type": "code",
   "execution_count": 55,
   "metadata": {},
   "outputs": [
    {
     "name": "stdout",
     "output_type": "stream",
     "text": [
      "The autoreload extension is already loaded. To reload it, use:\n",
      "  %reload_ext autoreload\n"
     ]
    }
   ],
   "source": [
    "%load_ext autoreload\n",
    "%autoreload 2\n",
    "%matplotlib inline\n",
    "import matplotlib.pyplot as plt\n",
    "from source.datasets import CatBallDataset, AnalogBits, custom_collate_with_info\n",
    "import numpy as np\n",
    "import jlc\n",
    "import torch\n"
   ]
  },
  {
   "cell_type": "code",
   "execution_count": 14,
   "metadata": {},
   "outputs": [
    {
     "name": "stdout",
     "output_type": "stream",
     "text": [
      "The autoreload extension is already loaded. To reload it, use:\n",
      "  %reload_ext autoreload\n",
      "Namespace(attention_resolutions='-2,-1', bce_loss=False, betas='0.9,0.999', cat_ball_data=False, clip_denoised=True, conditioning_type='none', datasets='non-medical', datasets_as_classes=False, deeper_net=True, dropout=0.0, ema_rate='0.9999', eval_batch_size=0, eval_ema_step=50000, eval_guidance_weight=0.0, eval_interval=5000, eval_num_steps=100, fp16_scale_growth=0.001, gamma_clip_min=1e-09, image_size=32, input_scale=1.0, log_train_metrics='loss', log_vali_interval=200, logs_folder='../logs2/', loss_weights='uniform', lr=0.0001, lr_decay_steps=0, lr_decay_type='linear', lr_warmup_steps=0, lr_warmup_type='linear', major_vote_number=5, max_iter=100000, max_num_classes=8, min_label_size=0.01, model_name='test', model_str='model*', no_diffusion=False, no_image_prob=0.1, no_label_prob=0.1, noise_schedule='linear', num_channels=64, num_classes=0, num_heads=4, num_heads_upsample=-1, num_res_blocks=3, num_save_samples=8, num_save_samples_fixed=8, num_vali_batches=8, predict='x', resume_ckpt_name='', resume_from_step=False, run_without_test=False, sample_function='cat,grid,single,inter', save_best_ckpt=False, save_ckpt_steps='-1', save_interval=5000, save_path='', save_train_samples=True, schedule_sampler='uniform', seed=-1, self_conditioning=False, sigma_small=False, split_ratio='0.8,0.1,0.1', time_cond_type='t', train_batch_size=32, update_foward_pass_plot_interval=200, update_loss_plot_interval=200, use_fp16=True, use_scale_shift_norm=False, weak_signals=False, weight_decay=0.0)\n"
     ]
    },
    {
     "data": {
      "text/plain": [
       "'0.9999'"
      ]
     },
     "execution_count": 14,
     "metadata": {},
     "output_type": "execute_result"
    }
   ],
   "source": [
    "%load_ext autoreload\n",
    "%autoreload 2\n",
    "import sys, os\n",
    "sys.path.append('./source/')\n",
    "from source.utils import write_args, model_and_diffusion_defaults, SmartParser\n",
    "from argparse import Namespace\n",
    "args = SmartParser().get_args(do_parse_args=False)\n",
    "print(args)\n",
    "#write_args(args, \"./saves/test/args.json\")\n",
    "args.ema_rate"
   ]
  },
  {
   "cell_type": "code",
   "execution_count": 10,
   "metadata": {},
   "outputs": [],
   "source": [
    "%matplotlib inline"
   ]
  },
  {
   "cell_type": "code",
   "execution_count": 55,
   "metadata": {},
   "outputs": [
    {
     "data": {
      "text/plain": [
       "<matplotlib.image.AxesImage at 0x75571d001fd0>"
      ]
     },
     "execution_count": 55,
     "metadata": {},
     "output_type": "execute_result"
    },
    {
     "data": {
      "image/png": "[encoded data removed]",
      "text/plain": [
       "<Figure size 2000x200 with 1 Axes>"
      ]
     },
     "metadata": {},
     "output_type": "display_data"
    }
   ],
   "source": [
    "import matplotlib.pyplot as plt\n",
    "import matplotlib\n",
    "import numpy as np\n",
    "from PIL import Image\n",
    "from tempfile import NamedTemporaryFile\n",
    "import cv2\n",
    "import warnings\n",
    "\n",
    "def render_axis_ticks(image_width=1000,\n",
    "                      num_uniform_spaced=None,\n",
    "                      bg_color=\"white\",\n",
    "                      xtick_kwargs={\"labels\": np.arange(5)},\n",
    "                      tick_params={}):\n",
    "    old_backend = matplotlib.rcParams['backend']\n",
    "    old_dpi = matplotlib.rcParams['figure.dpi']\n",
    "    dpi = 100\n",
    "    if num_uniform_spaced is None:\n",
    "        num_uniform_spaced = len(xtick_kwargs[\"labels\"])\n",
    "    n = num_uniform_spaced\n",
    "     \n",
    "    matplotlib.rcParams['figure.dpi'] = dpi\n",
    "    matplotlib.use('Agg')\n",
    "    try:        \n",
    "        fig = plt.figure(figsize=(image_width/dpi, 1e-15), facecolor=bg_color)\n",
    "        ax = plt.Axes(fig, [0., 0., 1., 1.])\n",
    "        ax.set_facecolor(bg_color)\n",
    "        ax.set_frame_on(False)\n",
    "        ax.tick_params(**tick_params)\n",
    "        fig.add_axes(ax)\n",
    "        \n",
    "        plt.yticks([])\n",
    "        plt.xlim(0, n)\n",
    "        x_pos = np.linspace(0.5,n-0.5,n)\n",
    "        if not \"ticks\" in xtick_kwargs:\n",
    "            xtick_kwargs[\"ticks\"] = x_pos[:len(xtick_kwargs[\"labels\"])]\n",
    "        else:\n",
    "            if xtick_kwargs[\"ticks\"] is None:\n",
    "                xtick_kwargs[\"ticks\"] = x_pos[:len(xtick_kwargs[\"labels\"])]\n",
    "        plt.xticks(**xtick_kwargs)\n",
    "        \n",
    "        \n",
    "        warnings.filterwarnings(\"ignore\") #avoid warning about agg backend not showing anything\n",
    "        fig.show()\n",
    "        warnings.resetwarnings()\n",
    "\n",
    "        with NamedTemporaryFile(suffix=\".png\", delete=False) as temp_file:\n",
    "            temp_filename = temp_file.name\n",
    "            fig.savefig(temp_filename, format='png', bbox_inches='tight', pad_inches=0)\n",
    "        im = np.array(Image.open(temp_filename))\n",
    "        if not im.shape[1]==image_width:\n",
    "            #reshape with cv2 linear interpolation\n",
    "            warnings.warn(\"Image width is not as expected, likely due to too large text labels. Reshaping with cv2 linear interpolation.\")\n",
    "            im = cv2.resize(im, (image_width, im.shape[0]), interpolation=cv2.INTER_LINEAR)\n",
    "\n",
    "        matplotlib.use(old_backend)\n",
    "        matplotlib.rcParams['figure.dpi'] = old_dpi\n",
    "    except:\n",
    "        matplotlib.use(old_backend)\n",
    "        matplotlib.rcParams['figure.dpi'] = old_dpi\n",
    "        raise\n",
    "    return im\n",
    "\n",
    "#test for empty image without ticks\n",
    "im = render_axis_ticks(23,bg_color=\"red\",xtick_kwargs={\"labels\": [\"  \"]}, tick_params={\"bottom\": False})\n",
    "plt.figure(figsize=(20,2))\n",
    "plt.imshow(im)"
   ]
  },
  {
   "cell_type": "code",
   "execution_count": 8,
   "metadata": {},
   "outputs": [
    {
     "name": "stdout",
     "output_type": "stream",
     "text": [
      "(37, 1000, 4)\n"
     ]
    },
    {
     "data": {
      "text/plain": [
       "<matplotlib.image.AxesImage at 0x755729a0ae80>"
      ]
     },
     "execution_count": 8,
     "metadata": {},
     "output_type": "execute_result"
    }
   ],
   "source": [
    "\n",
    "\n",
    "im = render_axis_ticks(bg_color=\"white\",xtick_kwargs={\"labels\":[\"1\",\"tgwo\",\"three\",\"four\",\"five\"], \"fontsize\":20})\n",
    "print(im.shape)\n",
    "plt.figure(figsize=(15,2))\n",
    "plt.imshow(im)"
   ]
  },
  {
   "cell_type": "code",
   "execution_count": 3,
   "metadata": {},
   "outputs": [
    {
     "data": {
      "text/plain": [
       "<jlc.functions.zoom at 0x7557327d2c70>"
      ]
     },
     "execution_count": 3,
     "metadata": {},
     "output_type": "execute_result"
    }
   ],
   "source": [
    "import mmcv\n",
    "import numpy as np\n",
    "\n",
    "\n",
    "def intersect_and_union(pred_label,\n",
    "                        label,\n",
    "                        num_classes,\n",
    "                        ignore_index,\n",
    "                        label_map=dict(),\n",
    "                        reduce_zero_label=False):\n",
    "\n",
    "    if isinstance(pred_label, str):\n",
    "        pred_label = np.load(pred_label)\n",
    "\n",
    "    if isinstance(label, str):\n",
    "        label = mmcv.imread(label, flag='unchanged', backend='pillow')\n",
    "    # modify if custom classes\n",
    "    if label_map is not None:\n",
    "        for old_id, new_id in label_map.items():\n",
    "            label[label == old_id] = new_id\n",
    "    if reduce_zero_label:\n",
    "        # avoid using underflow conversion\n",
    "        label[label == 0] = 255\n",
    "        label = label - 1\n",
    "        label[label == 254] = 255\n",
    "\n",
    "    mask = (label != ignore_index)\n",
    "    pred_label = pred_label[mask]\n",
    "    label = label[mask]\n",
    "\n",
    "    intersect = pred_label[pred_label == label]\n",
    "    area_intersect, _ = np.histogram(\n",
    "        intersect, bins=np.arange(num_classes + 1))\n",
    "    area_pred_label, _ = np.histogram(\n",
    "        pred_label, bins=np.arange(num_classes + 1))\n",
    "    area_label, _ = np.histogram(label, bins=np.arange(num_classes + 1))\n",
    "    area_union = area_pred_label + area_label - area_intersect\n",
    "\n",
    "    return area_intersect, area_union, area_pred_label, area_label\n",
    "\n",
    "\n",
    "def total_intersect_and_union(results,\n",
    "                              gt_seg_maps,\n",
    "                              num_classes,\n",
    "                              ignore_index,\n",
    "                              label_map=dict(),\n",
    "                              reduce_zero_label=False):\n",
    "\n",
    "    num_imgs = len(results)\n",
    "    assert len(gt_seg_maps) == num_imgs\n",
    "    total_area_intersect = np.zeros((num_classes, ), dtype=np.float)\n",
    "    total_area_union = np.zeros((num_classes, ), dtype=np.float)\n",
    "    total_area_pred_label = np.zeros((num_classes, ), dtype=np.float)\n",
    "    total_area_label = np.zeros((num_classes, ), dtype=np.float)\n",
    "    for i in range(num_imgs):\n",
    "        area_intersect, area_union, area_pred_label, area_label = \\\n",
    "            intersect_and_union(results[i], gt_seg_maps[i], num_classes,\n",
    "                                ignore_index, label_map, reduce_zero_label)\n",
    "        total_area_intersect += area_intersect\n",
    "        total_area_union += area_union\n",
    "        total_area_pred_label += area_pred_label\n",
    "        total_area_label += area_label\n",
    "    return total_area_intersect, total_area_union, \\\n",
    "        total_area_pred_label, total_area_label\n",
    "\n",
    "\n",
    "def mean_iou(results,\n",
    "             gt_seg_maps,\n",
    "             num_classes,\n",
    "             ignore_index,\n",
    "             nan_to_num=None,\n",
    "             label_map=dict(),\n",
    "             reduce_zero_label=False):\n",
    "    all_acc, acc, iou = eval_metrics(\n",
    "        results=results,\n",
    "        gt_seg_maps=gt_seg_maps,\n",
    "        num_classes=num_classes,\n",
    "        ignore_index=ignore_index,\n",
    "        metrics=['mIoU'],\n",
    "        nan_to_num=nan_to_num,\n",
    "        label_map=label_map,\n",
    "        reduce_zero_label=reduce_zero_label)\n",
    "    return all_acc, acc, iou\n",
    "\n",
    "\n",
    "def mean_dice(results,\n",
    "              gt_seg_maps,\n",
    "              num_classes,\n",
    "              ignore_index,\n",
    "              nan_to_num=None,\n",
    "              label_map=dict(),\n",
    "              reduce_zero_label=False):\n",
    "    all_acc, acc, dice = eval_metrics(\n",
    "        results=results,\n",
    "        gt_seg_maps=gt_seg_maps,\n",
    "        num_classes=num_classes,\n",
    "        ignore_index=ignore_index,\n",
    "        metrics=['mDice'],\n",
    "        nan_to_num=nan_to_num,\n",
    "        label_map=label_map,\n",
    "        reduce_zero_label=reduce_zero_label)\n",
    "    return all_acc, acc, dice\n",
    "\n",
    "\n",
    "def eval_metrics(results,\n",
    "                 gt_seg_maps,\n",
    "                 num_classes,\n",
    "                 ignore_index,\n",
    "                 metrics=['mIoU'],\n",
    "                 nan_to_num=None,\n",
    "                 label_map=dict(),\n",
    "                 reduce_zero_label=False):\n",
    "\n",
    "    if isinstance(metrics, str):\n",
    "        metrics = [metrics]\n",
    "    allowed_metrics = ['mIoU', 'mDice']\n",
    "    if not set(metrics).issubset(set(allowed_metrics)):\n",
    "        raise KeyError('metrics {} is not supported'.format(metrics))\n",
    "    total_area_intersect, total_area_union, total_area_pred_label, \\\n",
    "        total_area_label = total_intersect_and_union(results, gt_seg_maps,\n",
    "                                                     num_classes, ignore_index,\n",
    "                                                     label_map,\n",
    "                                                     reduce_zero_label)\n",
    "    all_acc = total_area_intersect.sum() / total_area_label.sum()\n",
    "    acc = total_area_intersect / total_area_label\n",
    "    ret_metrics = [all_acc, acc]\n",
    "    for metric in metrics:\n",
    "        if metric == 'mIoU':\n",
    "            iou = total_area_intersect / total_area_union\n",
    "            ret_metrics.append(iou)\n",
    "        elif metric == 'mDice':\n",
    "            dice = 2 * total_area_intersect / (\n",
    "                total_area_pred_label + total_area_label)\n",
    "            ret_metrics.append(dice)\n",
    "    if nan_to_num is not None:\n",
    "        ret_metrics = [\n",
    "            np.nan_to_num(metric, nan=nan_to_num) for metric in ret_metrics\n",
    "        ]\n",
    "    return ret_metrics"
   ]
  },
  {
   "cell_type": "code",
   "execution_count": 20,
   "metadata": {},
   "outputs": [
    {
     "data": {
      "text/plain": [
       "0.05357142857142857"
      ]
     },
     "execution_count": 20,
     "metadata": {},
     "output_type": "execute_result"
    }
   ],
   "source": [
    "import numpy as np\n",
    "\n",
    "def mean_iou(pred, target, num_classes=None, ignore_index=0):\n",
    "    if num_classes is None:\n",
    "        num_classes = max(np.max(pred), np.max(target)) + 1\n",
    "    intersect = pred[pred == target]\n",
    "    area_intersect, _ = np.histogram(intersect, bins=np.arange(num_classes + 1))\n",
    "    area_pred_label, _ = np.histogram(pred, bins=np.arange(num_classes + 1))\n",
    "    area_label, _ = np.histogram(target, bins=np.arange(num_classes + 1))\n",
    "    area_union = area_pred_label + area_label - area_intersect\n",
    "\n",
    "    iou = area_intersect[area_union!=0]/area_union[area_union!=0]\n",
    "    iou = np.mean(iou)\n",
    "    return iou\n",
    "\n",
    "pred  = np.array([0,0,0,0,0,   0,1,1,1,2,  2,2,2,3])\n",
    "target = np.array([1,1,1,1,1,   1,1,1,1,1,  1,1,1,1])\n",
    "mean_iou(target,pred, 4)"
   ]
  },
  {
   "cell_type": "code",
   "execution_count": 46,
   "metadata": {},
   "outputs": [
    {
     "name": "stdout",
     "output_type": "stream",
     "text": [
      "[[1.   0.   0.   0.   0.  ]\n",
      " [0.   0.   0.5  0.25 0.25]\n",
      " [0.   1.   0.   0.   0.  ]\n",
      " [0.   0.   0.   0.   0.  ]\n",
      " [0.   0.   0.   0.   0.  ]]\n",
      "(array([0, 1, 2, 3, 4]), array([0, 2, 1, 3, 4]))\n"
     ]
    },
    {
     "data": {
      "text/plain": [
       "(0.8333333333333334,)"
      ]
     },
     "execution_count": 46,
     "metadata": {},
     "output_type": "execute_result"
    }
   ],
   "source": [
    "from sklearn.metrics import confusion_matrix\n",
    "import numpy as np\n",
    "from scipy.optimize import linear_sum_assignment\n",
    "\n",
    "pred   = np.array([0,0,0,0,0,   2,2,2,2,2,  3,3,5,4])\n",
    "target = np.array([1,1,1,1,1,   3,3,3,3,3,  2,2,2,2])\n",
    "\n",
    "\n",
    "\n",
    "hungarian_iou(target,pred)"
   ]
  },
  {
   "cell_type": "code",
   "execution_count": 45,
   "metadata": {},
   "outputs": [
    {
     "data": {
      "text/plain": [
       "0.9166666666666666"
      ]
     },
     "execution_count": 45,
     "metadata": {},
     "output_type": "execute_result"
    }
   ],
   "source": [
    "(2.75/3)"
   ]
  },
  {
   "cell_type": "code",
   "execution_count": 2,
   "metadata": {},
   "outputs": [
    {
     "name": "stdout",
     "output_type": "stream",
     "text": [
      "42.3\n"
     ]
    }
   ],
   "source": [
    "percentage = 42.345\n",
    "formatted_percentage = f'{percentage:0.1f}'\n",
    "\n",
    "print(formatted_percentage)\n"
   ]
  },
  {
   "cell_type": "code",
   "execution_count": 2,
   "metadata": {},
   "outputs": [
    {
     "name": "stdout",
     "output_type": "stream",
     "text": [
      "processing dataset:  coco\n",
      "processing dataset:  pascal\n",
      "processing dataset:  sa1b\n",
      "processing dataset:  coift\n",
      "processing dataset:  hrsod\n",
      "processing dataset:  to5k\n",
      "processing dataset:  dram\n",
      "processing dataset:  cityscapes\n",
      "processing dataset:  coco\n",
      "processing dataset:  pascal\n",
      "processing dataset:  sa1b\n",
      "processing dataset:  coift\n",
      "processing dataset:  hrsod\n",
      "processing dataset:  to5k\n",
      "processing dataset:  dram\n",
      "processing dataset:  cityscapes\n",
      "CUDA available. Using GPU.\n",
      "Resuming training run.\n"
     ]
    },
    {
     "name": "stderr",
     "output_type": "stream",
     "text": [
      "Batch progress.: 100%|██████████| 1/1 [00:02<00:00,  2.57s/it]\n"
     ]
    }
   ],
   "source": [
    "import sys, os\n",
    "\n",
    "sys.path.append('./source/')        \n",
    "from utils import SmartParser\n",
    "from training import DiffusionModelTrainer\n",
    "from training import DiffusionModelTrainer\n",
    "from sampling import DiffusionSampler\n",
    "\n",
    "args = SmartParser().get_args(do_parse_args=False)\n",
    "args.model_name = \"2024-01-12-17-41-40-226108_default\"\n",
    "args.save_path = \"./saves/\"+args.model_name\n",
    "trainer = DiffusionModelTrainer(args)\n",
    "sampler = DiffusionSampler(diffusion=trainer.cgd,\n",
    "                        model=trainer.model,\n",
    "                        dataloader=trainer.vali_dl,\n",
    "                        step=trainer.step,\n",
    "                        do_agg=False,\n",
    "                        trainer=trainer)\n",
    "sampler.opts.num_samples = 2\n",
    "sampler.opts.num_votes = 5\n",
    "sampler.opts.num_inter_samples = 2\n",
    "sampler.opts.num_inter_steps = 20\n",
    "sampler.opts.save_plot_inter_path = os.path.join(args.save_path,\"inter\")\n",
    "sampler.opts.save_concat_plot_inter_path = os.path.join(args.save_path,\"inter_concat.png\")\n",
    "output = sampler.sample(num_timesteps=100)"
   ]
  },
  {
   "cell_type": "code",
   "execution_count": 36,
   "metadata": {},
   "outputs": [
    {
     "data": {
      "text/plain": [
       "'./data/ade20k/ADE20K_2016_07_26/images/training'"
      ]
     },
     "execution_count": 36,
     "metadata": {},
     "output_type": "execute_result"
    }
   ],
   "source": [
    "root_ade20k_dir"
   ]
  },
  {
   "cell_type": "code",
   "execution_count": 40,
   "metadata": {},
   "outputs": [
    {
     "name": "stdout",
     "output_type": "stream",
     "text": [
      "20543\n",
      "data/ade20k/ADE20K_2016_07_26/images/validation/c/circus_tent/outdoor/ADE_val_00001249.jpg\n",
      "data/ade20k/ADE20K_2016_07_26/images/validation/c/canal/natural/ADE_val_00000222.jpg\n",
      "data/ade20k/ADE20K_2016_07_26/images/validation/c/canal/urban/ADE_val_00001222.jpg\n",
      "data/ade20k/ADE20K_2016_07_26/images/validation/c/convenience_store/outdoor/ADE_val_00000278.jpg\n",
      "data/ade20k/ADE20K_2016_07_26/images/validation/c/convenience_store/indoor/ADE_val_00001277.jpg\n",
      "data/ade20k/ADE20K_2016_07_26/images/validation/c/cabin/outdoor/ADE_val_00001218.jpg\n",
      "data/ade20k/ADE20K_2016_07_26/images/validation/c/cabin/outdoor/ADE_val_00000219.jpg\n",
      "data/ade20k/ADE20K_2016_07_26/images/validation/c/cavern/outdoor/ADE_val_00000238.jpg\n",
      "data/ade20k/ADE20K_2016_07_26/images/validation/c/cavern/indoor/ADE_val_00001237.jpg\n",
      "data/ade20k/ADE20K_2016_07_26/images/validation/c/church/outdoor/ADE_val_00001248.jpg\n"
     ]
    }
   ],
   "source": [
    "import os,glob\n",
    "from pathlib import Path\n",
    "import numpy as np\n",
    "folder_path = \"./data/ade20k\"\n",
    "root_ade20k_dir = os.path.join(folder_path,\"ADE20K_2016_07_26\",\"images\")\n",
    "paths = (list(Path(root_ade20k_dir).glob(\"*/*/*/*/*.jpg\"))+\n",
    "         list(Path(root_ade20k_dir).glob(\"*/*/*/*.jpg\")))\n",
    "filenames = [str(path) for path in paths]\n",
    "print(len(paths))\n",
    "print(\"\\n\".join(filenames[:10]))"
   ]
  },
  {
   "cell_type": "code",
   "execution_count": 51,
   "metadata": {},
   "outputs": [
    {
     "name": "stdout",
     "output_type": "stream",
     "text": [
      "validation\n",
      "(960, 1280, 3) (960, 1280, 3) [['001 ' ' 0 ' ' 0 ' ' sky ' ' sky ' ' \"\"']\n",
      " ['002 ' ' 0 ' ' 0 ' ' road, route ' ' road ' ' \"\"']\n",
      " ['003 ' ' 0 ' ' 0 ' ' road, route ' ' road ' ' \"\"']\n",
      " ['004 ' ' 0 ' ' 0 ' ' wall ' ' wall ' ' \"\"']\n",
      " ['005 ' ' 0 ' ' 0 ' ' wall ' ' wall ' ' \"\"']\n",
      " ['006 ' ' 0 ' ' 0 ' ' building, edifice ' ' building ' ' \"\"']\n",
      " ['007 ' ' 0 ' ' 0 ' ' tree ' ' trees ' ' \"\"']\n",
      " ['008 ' ' 0 ' ' 0 ' ' earth, ground ' ' ground ' ' \"\"']\n",
      " ['009 ' ' 0 ' ' 0 ' ' big top ' ' big top ' ' \"\"']\n",
      " ['010 ' ' 0 ' ' 0 ' ' tree ' ' tree ' ' \"\"']\n",
      " ['011 ' ' 0 ' ' 0 ' ' tree ' ' trees ' ' \"\"']\n",
      " ['012 ' ' 0 ' ' 0 ' ' tree ' ' trees ' ' \"\"']\n",
      " ['013 ' ' 0 ' ' 0 ' ' earth, ground ' ' ground ' ' \"\"']\n",
      " ['014 ' ' 0 ' ' 0 ' ' grass ' ' grass ' ' \"\"']\n",
      " ['015 ' ' 0 ' ' 0 ' ' pole ' ' pole ' ' \"\"']\n",
      " ['016 ' ' 0 ' ' 0 ' ' pole ' ' pole ' ' \"\"']\n",
      " ['017 ' ' 0 ' ' 0 ' ' pole ' ' pole ' ' \"\"']\n",
      " ['018 ' ' 0 ' ' 0 ' ' spotlight, spot ' ' spotlight ' ' \"\"']]\n"
     ]
    }
   ],
   "source": [
    "from PIL import Image\n",
    "def load_image_label_info(file_name):\n",
    "    image_path = file_name\n",
    "    label_path = image_path.replace(\".jpg\",\"_seg.png\")\n",
    "    json_path = image_path.replace(\".jpg\",\"_atr.txt\")\n",
    "    info = np.loadtxt(json_path, dtype=str, delimiter=\"#\", comments=None)\n",
    "    print(Path(file_name).parts[4])\n",
    "    image = Image.open(image_path)\n",
    "    label = Image.open(label_path)\n",
    "\n",
    "    #info = {\"classes\": [0],\n",
    "    #        \"split_idx\": [\"training\",\"validation\"].index(Path(file_name).parts[4])}\n",
    "    return image,label,info\n",
    "\n",
    "image,label,info = load_image_label_info(filenames[0])\n",
    "image,label = np.array(image),np.array(label)\n",
    "print(image.shape,label.shape,info)"
   ]
  },
  {
   "cell_type": "code",
   "execution_count": 49,
   "metadata": {},
   "outputs": [
    {
     "data": {
      "text/plain": [
       "<matplotlib.image.AxesImage at 0x7ff442d7e940>"
      ]
     },
     "execution_count": 49,
     "metadata": {},
     "output_type": "execute_result"
    },
    {
     "data": {
      "image/png": "[encoded data removed]",
      "text/plain": [
       "<Figure size 640x480 with 1 Axes>"
      ]
     },
     "metadata": {},
     "output_type": "display_data"
    }
   ],
   "source": [
    "import matplotlib.pyplot as plt\n",
    "plt.imshow(label)"
   ]
  },
  {
   "cell_type": "code",
   "execution_count": 50,
   "metadata": {},
   "outputs": [
    {
     "data": {
      "text/plain": [
       "array([ 90, 116,  14], dtype=uint8)"
      ]
     },
     "execution_count": 50,
     "metadata": {},
     "output_type": "execute_result"
    }
   ],
   "source": [
    "label[0,0]"
   ]
  },
  {
   "cell_type": "code",
   "execution_count": 31,
   "metadata": {},
   "outputs": [
    {
     "name": "stdout",
     "output_type": "stream",
     "text": [
      "(array(['cabin', 'canal', 'car_interior', 'cargo_deck', 'carport',\n",
      "       'casino', 'cathedral', 'cavern', 'chicken_coop', 'chicken_farm',\n",
      "       'choir_loft', 'church', 'circus_tent', 'cloakroom', 'clock_tower',\n",
      "       'cloister', 'control_tower', 'convenience_store', 'covered_bridge',\n",
      "       'cubicle'], dtype='<U17'), array([18, 21, 20,  6, 26, 60, 35, 19, 22, 13, 11, 38, 12, 10,  4, 29, 29,\n",
      "       20, 21, 30]))\n"
     ]
    }
   ],
   "source": [
    "\n",
    "str_list = [p.parent.parent.name for p in paths]\n",
    "print(np.unique(str_list, return_counts=True))"
   ]
  },
  {
   "cell_type": "code",
   "execution_count": 15,
   "metadata": {},
   "outputs": [
    {
     "data": {
      "text/plain": [
       "['./data/ade20k/ADE20K_2016_07_26/images/training/c/circus_tent/outdoor/ADE_train_00005589_seg.png',\n",
       " './data/ade20k/ADE20K_2016_07_26/images/training/c/circus_tent/outdoor/ADE_train_00005584_seg.png',\n",
       " './data/ade20k/ADE20K_2016_07_26/images/training/c/circus_tent/outdoor/ADE_train_00005592_parts_1.png',\n",
       " './data/ade20k/ADE20K_2016_07_26/images/training/c/circus_tent/outdoor/ADE_train_00005585_seg.png',\n",
       " './data/ade20k/ADE20K_2016_07_26/images/training/c/circus_tent/outdoor/ADE_train_00005591_seg.png',\n",
       " './data/ade20k/ADE20K_2016_07_26/images/training/c/circus_tent/outdoor/ADE_train_00005590_seg.png',\n",
       " './data/ade20k/ADE20K_2016_07_26/images/training/c/circus_tent/outdoor/ADE_train_00005586_seg.png',\n",
       " './data/ade20k/ADE20K_2016_07_26/images/training/c/circus_tent/outdoor/ADE_train_00005592_seg.png',\n",
       " './data/ade20k/ADE20K_2016_07_26/images/training/c/circus_tent/outdoor/ADE_train_00005588_seg.png',\n",
       " './data/ade20k/ADE20K_2016_07_26/images/training/c/circus_tent/outdoor/ADE_train_00005587_seg.png']"
      ]
     },
     "execution_count": 15,
     "metadata": {},
     "output_type": "execute_result"
    }
   ],
   "source": [
    "file_name_list[:10]"
   ]
  },
  {
   "cell_type": "code",
   "execution_count": 6,
   "metadata": {},
   "outputs": [
    {
     "data": {
      "text/plain": [
       "False"
      ]
     },
     "execution_count": 6,
     "metadata": {},
     "output_type": "execute_result"
    }
   ],
   "source": [
    "os.path.isdir(root_ade20k_dir)"
   ]
  },
  {
   "cell_type": "code",
   "execution_count": 54,
   "metadata": {},
   "outputs": [
    {
     "name": "stdout",
     "output_type": "stream",
     "text": [
      "[2 2 0 0 2 3 1 4 0 1 1 0 0 1 1 1 2 0 1 1 0 1 0 0 0 2 0 0 1 1 1 1 0 0 1 2 0\n",
      " 3 1 2 1 1 0 0 0 1 0 2 2 1 1 1 4 1 0 1 1 1 1 2 0 0 0 2 1 3 0 0 3 1 2 2 0 3\n",
      " 1 0 0 0 0 0 1 0 0 0 0 0 1 1 0 3 3 2 3 0 2 1 2 0 0 3]\n",
      "100\n",
      "100\n"
     ]
    }
   ],
   "source": [
    "import numpy as np\n",
    "\n",
    "random_ints = np.random.randint(100,size=100)\n",
    "print(np.bincount(random_ints))\n",
    "print(len(np.bincount(random_ints)))\n",
    "print(sum(np.bincount(random_ints)))"
   ]
  },
  {
   "cell_type": "code",
   "execution_count": 56,
   "metadata": {},
   "outputs": [
    {
     "name": "stdout",
     "output_type": "stream",
     "text": [
      "[1 0 3 4 2]\n",
      "[1 0 4 2 3]\n"
     ]
    }
   ],
   "source": [
    "a = np.array([1,0,5,2,3])\n",
    "print(np.argsort(a))\n",
    "print(np.argsort(np.argsort(a)))"
   ]
  },
  {
   "cell_type": "code",
   "execution_count": null,
   "metadata": {},
   "outputs": [],
   "source": []
  },
  {
   "cell_type": "code",
   "execution_count": null,
   "metadata": {},
   "outputs": [],
   "source": [
    "python train.py --model_name small[points_test]\n",
    "python train.py --model_name small[1]\n",
    "python train.py --model_name small[2]\n",
    "python train.py --model_name small[3]\n",
    "python train.py --model_name small[4]\n",
    "python train.py --model_name small[5]\n",
    "python train.py --model_name small[6]\n",
    "python train.py --model_name small[7]\n",
    "f"
   ]
  },
  {
   "cell_type": "code",
   "execution_count": 110,
   "metadata": {},
   "outputs": [
    {
     "name": "stdout",
     "output_type": "stream",
     "text": [
      "tensor([[1, 1, 1, 0, 0, 0, 0, 0, 0, 0],\n",
      "        [2, 2, 2, 2, 2, 0, 0, 0, 0, 0],\n",
      "        [0, 0, 0, 0, 0, 0, 0, 0, 0, 0],\n",
      "        [0, 0, 0, 0, 0, 0, 0, 0, 0, 0],\n",
      "        [0, 0, 0, 0, 0, 0, 0, 0, 0, 0],\n",
      "        [0, 0, 0, 0, 0, 0, 0, 0, 0, 0],\n",
      "        [0, 0, 0, 0, 0, 0, 0, 0, 0, 0],\n",
      "        [0, 0, 0, 0, 0, 0, 0, 0, 0, 0],\n",
      "        [0, 0, 0, 0, 0, 0, 0, 0, 0, 0],\n",
      "        [0, 0, 0, 0, 0, 0, 0, 0, 0, 0]])\n",
      "tensor([[0., 0., 0., 0., 0., 0., 0., 0., 0., 0.],\n",
      "        [0., 0., 1., 0., 0., 0., 0., 0., 0., 0.],\n",
      "        [0., 0., 0., 0., 0., 0., 0., 0., 0., 0.],\n",
      "        [0., 0., 0., 0., 0., 0., 0., 0., 0., 0.],\n",
      "        [0., 0., 0., 0., 0., 0., 0., 0., 0., 0.],\n",
      "        [0., 0., 0., 0., 0., 0., 0., 0., 0., 0.],\n",
      "        [0., 0., 0., 0., 0., 0., 0., 0., 0., 0.],\n",
      "        [0., 0., 0., 0., 0., 0., 0., 0., 0., 0.],\n",
      "        [0., 0., 0., 0., 0., 0., 0., 0., 0., 0.],\n",
      "        [0., 0., 0., 0., 0., 0., 0., 0., 0., 0.]])\n"
     ]
    }
   ],
   "source": [
    "import torch\n",
    "import numpy as np\n",
    "\n",
    "\n",
    "\n",
    "label = torch.zeros((10,10),dtype=torch.int64)\n",
    "label[0,0:3] = 1\n",
    "label[1,0:5] = 2\n",
    "print(label)\n",
    "print(points_image_from_label(label))"
   ]
  },
  {
   "cell_type": "code",
   "execution_count": 230,
   "metadata": {},
   "outputs": [
    {
     "ename": "AttributeError",
     "evalue": "module 'jlc.functions' has no attribute 'load_state_dict_loose'",
     "output_type": "error",
     "traceback": [
      "\u001b[0;31m---------------------------------------------------------------------------\u001b[0m",
      "\u001b[0;31mAttributeError\u001b[0m                            Traceback (most recent call last)",
      "Cell \u001b[0;32mIn[230], line 2\u001b[0m\n\u001b[1;32m      1\u001b[0m \u001b[38;5;28;01mimport\u001b[39;00m \u001b[38;5;21;01mjlc\u001b[39;00m\n\u001b[0;32m----> 2\u001b[0m \u001b[43mjlc\u001b[49m\u001b[38;5;241;43m.\u001b[39;49m\u001b[43mfunctions\u001b[49m\u001b[38;5;241;43m.\u001b[39;49m\u001b[43mload_state_dict_loose\u001b[49m\n\u001b[1;32m      3\u001b[0m help(jlc)\n",
      "\u001b[0;31mAttributeError\u001b[0m: module 'jlc.functions' has no attribute 'load_state_dict_loose'"
     ]
    }
   ],
   "source": [
    "import jlc\n",
    "#jlc.functions.load_state_dict_loose\n",
    "help(jlc)"
   ]
  },
  {
   "cell_type": "code",
   "execution_count": 228,
   "metadata": {},
   "outputs": [
    {
     "name": "stdout",
     "output_type": "stream",
     "text": [
      "[[3 2 0]]\n",
      "[[2]\n",
      " [1]\n",
      " [2]]\n",
      "[[0.66666667 0.         0.        ]\n",
      " [0.33333333 0.         0.        ]\n",
      " [0.         1.         0.        ]]\n",
      "[0 1 4] [ 0  4 -1]\n",
      "[[2 0 0]\n",
      " [1 0 0]\n",
      " [0 2 0]] [[3 4 2]\n",
      " [3 3 1]\n",
      " [5 2 2]]\n",
      "(0.5, array([1, 4]), array([-1,  4]), array([0., 1.]))\n"
     ]
    }
   ],
   "source": [
    "from sklearn.metrics import confusion_matrix\n",
    "import numpy as np\n",
    "from scipy.optimize import linear_sum_assignment\n",
    "\n",
    "def extend_shorter_vector(vec1,vec2,fill_value=0):\n",
    "    if len(vec1)<len(vec2):\n",
    "        vec1 = np.concatenate([vec1,(fill_value*np.ones(len(vec2)-len(vec1))).astype(vec1.dtype)])\n",
    "    elif len(vec2)<len(vec1):\n",
    "        vec2 = np.concatenate([vec2,(fill_value*np.ones(len(vec1)-len(vec2))).astype(vec2.dtype)])\n",
    "    return vec1,vec2\n",
    "\n",
    "def hungarian_iou(target,pred,ignore_idx=0,return_assignment=False):\n",
    "    if ignore_idx is None:\n",
    "        ignore_idx = []\n",
    "    if isinstance(ignore_idx,list):\n",
    "        assert all([isinstance(idx,int) for idx in ignore_idx]), \"ignore_idx must be None, int or list[int]\"\n",
    "    else:\n",
    "        assert isinstance(ignore_idx,int), \"ignore_idx must be None, int or list[int]\"\n",
    "        ignore_idx = [ignore_idx]\n",
    "    \n",
    "    uq_target,target,conf_rowsum = np.unique(target,return_counts=True,return_inverse=True)\n",
    "    uq_pred,pred,conf_colsum = np.unique(pred,return_counts=True,return_inverse=True)\n",
    "    conf_rowsum,conf_colsum = extend_shorter_vector(conf_rowsum,conf_colsum)\n",
    "    uq_target,uq_pred = extend_shorter_vector(uq_target,uq_pred,fill_value=-1)\n",
    "    \n",
    "    conf_rowsum,conf_colsum = conf_rowsum[:,None],conf_colsum[None,:]\n",
    "    intersection = confusion_matrix(target, pred)\n",
    "    print(conf_colsum)\n",
    "    print(conf_rowsum)\n",
    "    union = conf_rowsum + conf_colsum - intersection\n",
    "    iou_hungarian_mat = intersection / union\n",
    "\n",
    "    print(iou_hungarian_mat)\n",
    "    print(uq_target,uq_pred)\n",
    "    print(intersection,union)\n",
    "    mask_pred = np.isin(uq_pred,ignore_idx)\n",
    "    mask_target = np.isin(uq_target,ignore_idx)\n",
    "    #handle edge cases\n",
    "    if all(mask_pred) and all(mask_target):\n",
    "        val = 1.0\n",
    "        assign_pred = np.array([],dtype=int)\n",
    "        assign_target = np.array([],dtype=int)\n",
    "        iou_per_assignment = np.array([],dtype=float)\n",
    "    elif all(mask_pred) or all(mask_target):\n",
    "        val = 0.0\n",
    "        assign_pred = np.array([],dtype=int)\n",
    "        assign_target = np.array([],dtype=int)\n",
    "        iou_per_assignment = np.array([],dtype=float)\n",
    "    else:\n",
    "        #force optimal assignment to match ignore_idx with ignore_idx\n",
    "        iou_hungarian_mat[mask_target,:] = 0\n",
    "        iou_hungarian_mat[:,mask_pred] = 0\n",
    "        iou_hungarian_mat += mask_target[:,None]*mask_pred[None,:]\n",
    "\n",
    "        assignment = linear_sum_assignment(iou_hungarian_mat, maximize=True)\n",
    "\n",
    "        assign_target = uq_target[assignment[0]]\n",
    "        assign_pred = uq_pred[assignment[1]]\n",
    "        iou_per_assignment = iou_hungarian_mat[assignment[0],assignment[1]]\n",
    "        \n",
    "        #remove matches which have ignore_idx or dummy (-1) as both target and pred\n",
    "        ignore_idx.append(-1)\n",
    "        mask = np.logical_or(~np.isin(assign_pred,ignore_idx),~np.isin(assign_target,ignore_idx))\n",
    "        assign_target,assign_pred,iou_per_assignment = assign_target[mask],assign_pred[mask], iou_per_assignment[mask]\n",
    "        \n",
    "        val = np.mean(iou_per_assignment)\n",
    "\n",
    "    if return_assignment:\n",
    "        return val, assign_target, assign_pred, iou_per_assignment\n",
    "    else:\n",
    "        return val\n",
    "\n",
    "pred =   np.array([0,0,0,4,4])\n",
    "target = np.array([1,0,0,4,4])\n",
    "\n",
    "print(hungarian_iou(target,pred,ignore_idx=[0],return_assignment=True))"
   ]
  },
  {
   "cell_type": "code",
   "execution_count": 240,
   "metadata": {},
   "outputs": [
    {
     "name": "stdout",
     "output_type": "stream",
     "text": [
      "[PosixPath('saves/2024-01-12-17-41-40-226108_default/ckpt_100000.pt')]\n"
     ]
    }
   ],
   "source": [
    "from pathlib import Path\n",
    "\n",
    "save_path = Path(\"./saves\")\n",
    "print(list(save_path.glob(\"2024-01-12-17-41-40-226108_default/ckpt_100000.pt\")))"
   ]
  },
  {
   "cell_type": "code",
   "execution_count": null,
   "metadata": {},
   "outputs": [],
   "source": [
    "python train.py --model_name weak30k\n",
    "python train.py --model_name weak30k[1]\n",
    "python train.py --model_name weak30k[2]\n",
    "python train.py --model_name weak30k[3]\n",
    "python train.py --model_name weak30k[4]\n",
    "python train.py --model_name weak30k[5]\n",
    "python train.py --model_name weak30k[6]\n",
    "python train.py --model_name weak30k[7]\n",
    "f"
   ]
  },
  {
   "cell_type": "code",
   "execution_count": 5,
   "metadata": {},
   "outputs": [
    {
     "data": {
      "text/plain": [
       "Namespace(attention_resolutions='-2,-1', bce_loss=False, betas='0.9,0.999', cat_ball_data=False, ckpt_name='', class_type='none', clip_grad_norm=1.0, cond_prob=0.25, cond_type='none', datasets='non-medical', deeper_net=False, dropout=0.0, ema_rate='0.9999', fp16_scale_growth=0.001, gamma_clip_max=1e-09, gamma_clip_min=1e-09, gen_interval=1000, gen_setups='abc', image_prob=0.9, image_size=64, input_scale=0.01, log_train_metrics='loss,grad_norm', log_vali_interval=200, loss_weights='SNR', lr=0.0001, lr_decay_steps=0, lr_decay_type='cosine', lr_warmup_steps=0, lr_warmup_type='linear', max_iter=100000, max_num_classes=8, min_label_size=0.0, mode='new', model_name='default', no_diffusion=False, noise_schedule='cosine', num_channels=64, num_heads=4, num_heads_upsample=-1, num_res_blocks=3, num_vali_batches=8, predict='x', remove_old_plots=True, resume_from_step=False, run_without_test=False, save_best_ckpt=False, save_ckpt_steps='-1', save_interval=5000, save_path='', schedule_sampler='uniform_low_d', seed=-1, self_cond=False, self_cond_batched=False, self_cond_prob=0.5, sigma_small=False, split_ratio='0.8,0.1,0.1', time_cond_type='t', train_batch_size=8, update_forward_pass_plot_interval=200, update_loss_plot_interval=200, use_fp16=True, use_scale_shift_norm=False, vali_batch_size=8, weak_bbox_prob=0.25, weak_points_prob=0.25, weak_signals=False, weight_decay=0.0)"
      ]
     },
     "execution_count": 5,
     "metadata": {},
     "output_type": "execute_result"
    }
   ],
   "source": [
    "import sys,os \n",
    "sys.path.append('./source/')\n",
    "from utils import SmartParser\n",
    "SmartParser().get_args(alt_parse_args=[\"--gen_setup\",\"abc\"])"
   ]
  },
  {
   "cell_type": "code",
   "execution_count": 5,
   "metadata": {},
   "outputs": [
    {
     "name": "stdout",
     "output_type": "stream",
     "text": [
      "True\n"
     ]
    }
   ],
   "source": [
    "str_to_check = \"0.1243249551390409\"\n",
    "#check if the string is a float\n",
    "print(str_to_check)"
   ]
  },
  {
   "cell_type": "code",
   "execution_count": 11,
   "metadata": {},
   "outputs": [
    {
     "data": {
      "text/plain": [
       "0.0"
      ]
     },
     "execution_count": 11,
     "metadata": {},
     "output_type": "execute_result"
    }
   ],
   "source": [
    "\n",
    "from sklearn.metrics import adjusted_rand_score as ari\n",
    "import numpy as np\n",
    "pred = np.array([0,0,0,0,-1,   0,0,0,0,0  ,0,0,0,0])\n",
    "target = np.arange(14)+1\n",
    "ari(target,pred)"
   ]
  },
  {
   "cell_type": "code",
   "execution_count": 12,
   "metadata": {},
   "outputs": [
    {
     "data": {
      "text/plain": [
       "0.0"
      ]
     },
     "execution_count": 12,
     "metadata": {},
     "output_type": "execute_result"
    }
   ],
   "source": [
    "tn, fp, fn, tp = 0, 0, 3461155406, 833746354\n",
    "\n",
    "2. * (tp * tn - fn * fp) / ((tp + fn) * (fn + tn) +\n",
    "                                       (tp + fp) * (fp + tn))"
   ]
  },
  {
   "cell_type": "code",
   "execution_count": 28,
   "metadata": {},
   "outputs": [
    {
     "name": "stdout",
     "output_type": "stream",
     "text": [
      "ari    \n",
      "#######\n",
      " 0.19654\n",
      "0.00251\n",
      "0.01090\n",
      "0.16458\n",
      "0.20316\n",
      "0.17912\n",
      "0.19276\n",
      "0.17129 \n"
     ]
    }
   ],
   "source": [
    "strings = [\n",
    "            \"model_name # ari      hiou     iou      max_ari  max_hiou  mi       step   gen_id    setup_name     save_path                              \",\n",
    "            \"###########################################################################################################################################\",\n",
    "            \"weak30k    # 0.19654, 0.14555, 0.04918, 0.35134, 0.21887 , 0.25257, 30000, many_ema, ema_vali-ts10, 2024-01-19-15-30-36-544073_weak30k   , \",\n",
    "            \"weak30k[1] # 0.00251, 0.05383, 0.04121, 0.00495, 0.05776 , 0.00655, 30000, many_ema, ema_vali-ts10, 2024-01-19-20-11-16-488430_weak30k[1], \",\n",
    "            \"weak30k[2] # 0.01090, 0.06365, 0.04108, 0.01898, 0.07020 , 0.02150, 30000, many_ema, ema_vali-ts10, 2024-01-20-00-49-57-752052_weak30k[2], \",\n",
    "            \"weak30k[3] # 0.16458, 0.14400, 0.04788, 0.32155, 0.23593 , 0.22795, 30000, many_ema, ema_vali-ts10, 2024-01-20-05-29-37-392338_weak30k[3], \",\n",
    "            \"weak30k[4] # 0.20316, 0.14806, 0.03875, 0.31831, 0.19280 , 0.23632, 30000, many_ema, ema_vali-ts10, 2024-01-20-10-07-28-392180_weak30k[4], \",\n",
    "            \"weak30k[5] # 0.17912, 0.13690, 0.05168, 0.34111, 0.22482 , 0.22245, 30000, many_ema, ema_vali-ts10, 2024-01-20-14-44-56-333466_weak30k[5], \",\n",
    "            \"weak30k[6] # 0.19276, 0.14022, 0.04967, 0.34772, 0.21564 , 0.24563, 30000, many_ema, ema_vali-ts10, 2024-01-20-19-22-16-692216_weak30k[6], \",\n",
    "            \"weak30k[7] # 0.17129, 0.13990, 0.05181, 0.30982, 0.21108 , 0.22967, 30000, many_ema, ema_vali-ts10, 2024-01-20-23-59-44-017522_weak30k[7], \"\n",
    "        ]\n",
    "\n",
    "for s in strings:\n",
    "    #s2 = s[40:47]\n",
    "    s2 = s[13:20]\n",
    "    if s==strings[2]:\n",
    "        print(\" \"+s2)\n",
    "    elif s==strings[-1]:\n",
    "        print(s2+\" \")\n",
    "    else:\n",
    "        print(s2)"
   ]
  },
  {
   "cell_type": "code",
   "execution_count": null,
   "metadata": {},
   "outputs": [],
   "source": [
    "#python sample.py --gen_id many --name_match_str \"*30k;*30k[1];*30k[2];*30k[3];*30k[4];*30k[5];*30k[6];*30k[7]\" --seed 0 --num_samples 100 --num_timesteps 10\n",
    "#python sample.py --gen_id many_ema --name_match_str \"*30k;*30k[1];*30k[2];*30k[3];*30k[4];*30k[5];*30k[6];*30k[7]\" --seed 0 --num_samples 100 --num_timesteps 10 --ema_rate 0.9999"
   ]
  },
  {
   "cell_type": "code",
   "execution_count": null,
   "metadata": {},
   "outputs": [],
   "source": [
    " 0.26122\n",
    "0.03922\n",
    "0.07792\n",
    "0.30695\n",
    "0.30986\n",
    "0.30950\n",
    "0.32359\n",
    "0.24902\n"
   ]
  },
  {
   "cell_type": "code",
   "execution_count": 40,
   "metadata": {},
   "outputs": [
    {
     "name": "stdout",
     "output_type": "stream",
     "text": [
      "ratio 0/0, params: (0, 0, 0, 0)\n",
      "ratio 0/0, params: (0, 0, 0, 1)\n",
      "ratio 1/0, params: (0, 0, 1, 0)\n",
      "ratio 2/0, params: (0, 0, 1, 1)\n",
      "ratio 1/0, params: (0, 1, 0, 0)\n",
      "ratio 2/0, params: (0, 1, 0, 1)\n",
      "ratio 2/-2, params: (0, 1, 1, 0)\n",
      "ratio 4/-2, params: (0, 1, 1, 1)\n",
      "ratio 0/0, params: (1, 0, 0, 0)\n",
      "ratio 2/2, params: (1, 0, 0, 1)\n",
      "ratio 2/0, params: (1, 0, 1, 0)\n",
      "ratio 5/2, params: (1, 0, 1, 1)\n",
      "ratio 2/0, params: (1, 1, 0, 0)\n",
      "ratio 5/2, params: (1, 1, 0, 1)\n",
      "ratio 4/-2, params: (1, 1, 1, 0)\n",
      "ratio 8/0, params: (1, 1, 1, 1)\n"
     ]
    }
   ],
   "source": [
    "def div_val(tp,fn,fp,tn):\n",
    "    return ((tp + fn) * (fn + tn) + (tp + fp) * (fp + tn))\n",
    "def eks_val(tp,fn,fp,tn):\n",
    "    return 2 * (tp * tn - fn * fp)\n",
    "for i in range(16):\n",
    "    #conver binary i to 4 bit\n",
    "    binary =  np.binary_repr(i,width=4)\n",
    "    #set tp,fn,fp,tn to the bits:\n",
    "    tp,fn,fp,tn = [int(bit) for bit in binary]\n",
    "    print(\"ratio \"+str(div_val(tp,fn,fp,tn))+\"/\"+str(eks_val(tp,fn,fp,tn))+\", params: \"+str((tp,fn,fp,tn)))"
   ]
  },
  {
   "cell_type": "code",
   "execution_count": 34,
   "metadata": {},
   "outputs": [
    {
     "data": {
      "text/plain": [
       "'0'"
      ]
     },
     "execution_count": 34,
     "metadata": {},
     "output_type": "execute_result"
    }
   ],
   "source": [
    "python train.py --model_name long[5b] --ckpt_name *long/ckpt_*.pt\n",
    "python train.py --model_name long[6b] --ckpt_name *long/ckpt_*.pt\n",
    "python train.py --model_name long[7b] --ckpt_name *long/ckpt_*.pt\n",
    "python train.py --model_name long[8b] --ckpt_name *long/ckpt_*.pt\n",
    "python train.py --model_name long[5] --ckpt_name *long/ckpt_*.pt\n",
    "python train.py --model_name long[6] --ckpt_name *long/ckpt_*.pt\n",
    "python train.py --model_name long[7] --ckpt_name *long/ckpt_*.pt\n",
    "python train.py --model_name long[8] --ckpt_name *long/ckpt_*.pt\n",
    "f"
   ]
  },
  {
   "cell_type": "code",
   "execution_count": 43,
   "metadata": {},
   "outputs": [
    {
     "name": "stdout",
     "output_type": "stream",
     "text": [
      "Starting new training run.\n",
      "CUDA available. Using GPU.\n",
      "Number of trainable parameters: 155387142\n",
      "Saving to: saves/2024-01-29-13-03-33-306594_long\n",
      "processing dataset:  coco\n",
      "processing dataset:  pascal\n",
      "processing dataset:  sa1b\n",
      "processing dataset:  coift\n",
      "processing dataset:  hrsod\n",
      "processing dataset:  to5k\n",
      "processing dataset:  ade20k\n",
      "processing dataset:  dram\n",
      "processing dataset:  cityscapes\n",
      "processing dataset:  coco\n",
      "processing dataset:  pascal\n",
      "processing dataset:  sa1b\n",
      "processing dataset:  coift\n",
      "processing dataset:  hrsod\n",
      "processing dataset:  to5k\n",
      "processing dataset:  ade20k\n",
      "processing dataset:  dram\n",
      "processing dataset:  cityscapes\n",
      "Init complete.\n"
     ]
    }
   ],
   "source": [
    "import sys, os\n",
    "\n",
    "sys.path.append('./source/')        \n",
    "from utils import SmartParser\n",
    "from training import DiffusionModelTrainer\n",
    "\n",
    "args = SmartParser().get_args(alt_parse_args=[\"--model_name\",\"long\"])\n",
    "trainer = DiffusionModelTrainer(args)"
   ]
  },
  {
   "cell_type": "code",
   "execution_count": null,
   "metadata": {},
   "outputs": [],
   "source": [
    "trainer.train_loop()"
   ]
  },
  {
   "cell_type": "code",
   "execution_count": 1,
   "metadata": {},
   "outputs": [
    {
     "name": "stdout",
     "output_type": "stream",
     "text": [
      "tensor(1.)\n",
      "tensor(2.)\n",
      "tensor(3.)\n",
      "tensor(4.)\n",
      "tensor(5.)\n",
      "tensor(6.)\n",
      "tensor(7.)\n",
      "tensor(8.)\n",
      "tensor(9.)\n",
      "tensor(10.)\n",
      "tensor(11.)\n",
      "tensor(12.)\n",
      "tensor(13.)\n",
      "tensor(14.)\n",
      "tensor(15.)\n",
      "tensor(16.)\n",
      "tensor(17.)\n",
      "tensor(18.)\n",
      "tensor(19.)\n",
      "tensor(20.)\n",
      "tensor(21.)\n",
      "tensor(22.)\n",
      "tensor(23.)\n",
      "tensor(24.)\n",
      "tensor(25.)\n",
      "tensor(26.)\n",
      "tensor(27.)\n",
      "tensor(28.)\n",
      "tensor(29.)\n",
      "tensor(30.)\n",
      "tensor(31.)\n",
      "tensor(32.)\n",
      "tensor(33.)\n",
      "tensor(34.)\n",
      "tensor(35.)\n",
      "tensor(36.)\n",
      "tensor(37.)\n",
      "tensor(38.)\n",
      "tensor(39.)\n",
      "tensor(40.)\n",
      "tensor(41.)\n",
      "tensor(42.)\n",
      "tensor(43.)\n",
      "tensor(44.)\n",
      "tensor(45.)\n",
      "tensor(46.)\n",
      "tensor(47.)\n",
      "tensor(48.)\n",
      "tensor(49.)\n",
      "tensor(50.)\n",
      "tensor(51.)\n",
      "tensor(52.)\n",
      "tensor(53.)\n",
      "tensor(54.)\n",
      "tensor(55.)\n",
      "tensor(56.)\n",
      "tensor(57.)\n",
      "tensor(58.)\n",
      "tensor(59.)\n",
      "tensor(60.)\n",
      "tensor(61.)\n",
      "tensor(62.)\n",
      "tensor(63.)\n",
      "tensor(64.)\n",
      "tensor(65.)\n",
      "tensor(66.)\n",
      "tensor(67.)\n",
      "tensor(68.)\n",
      "tensor(69.)\n",
      "tensor(70.)\n",
      "tensor(71.)\n",
      "tensor(72.)\n",
      "tensor(73.)\n",
      "tensor(74.)\n",
      "tensor(75.)\n",
      "tensor(76.)\n",
      "tensor(77.)\n",
      "tensor(78.)\n",
      "tensor(79.)\n",
      "tensor(80.)\n",
      "tensor(81.)\n",
      "tensor(82.)\n",
      "tensor(83.)\n",
      "tensor(84.)\n",
      "tensor(85.)\n",
      "tensor(86.)\n",
      "tensor(87.)\n",
      "tensor(88.)\n",
      "tensor(89.)\n",
      "tensor(90.)\n",
      "tensor(91.)\n",
      "tensor(92.)\n",
      "tensor(93.)\n",
      "tensor(94.)\n",
      "tensor(95.)\n",
      "tensor(96.)\n",
      "tensor(97.)\n",
      "tensor(98.)\n",
      "tensor(99.)\n",
      "tensor(100.)\n",
      "tensor(101.)\n",
      "tensor(102.)\n",
      "tensor(103.)\n",
      "tensor(104.)\n",
      "tensor(105.)\n",
      "tensor(106.)\n",
      "tensor(107.)\n",
      "tensor(108.)\n",
      "tensor(109.)\n",
      "tensor(110.)\n",
      "tensor(111.)\n",
      "tensor(112.)\n",
      "tensor(113.)\n",
      "tensor(114.)\n",
      "tensor(115.)\n",
      "tensor(116.)\n",
      "tensor(117.)\n",
      "tensor(118.)\n",
      "tensor(119.)\n",
      "tensor(120.)\n",
      "tensor(121.)\n",
      "tensor(122.)\n",
      "tensor(123.)\n",
      "tensor(124.)\n",
      "tensor(125.)\n",
      "tensor(126.)\n",
      "tensor(127.)\n",
      "tensor(128.)\n",
      "tensor(129.)\n",
      "tensor(130.)\n",
      "tensor(131.)\n",
      "tensor(132.)\n",
      "tensor(133.)\n",
      "tensor(134.)\n",
      "tensor(135.)\n",
      "tensor(136.)\n",
      "tensor(137.)\n",
      "tensor(138.)\n",
      "tensor(139.)\n",
      "tensor(140.)\n",
      "tensor(141.)\n",
      "tensor(142.)\n",
      "tensor(143.)\n",
      "tensor(144.)\n",
      "tensor(145.)\n",
      "tensor(146.)\n",
      "tensor(147.)\n",
      "tensor(148.)\n",
      "tensor(149.)\n",
      "tensor(150.)\n",
      "tensor(151.)\n",
      "tensor(152.)\n",
      "tensor(153.)\n",
      "tensor(154.)\n",
      "tensor(155.)\n",
      "tensor(156.)\n",
      "tensor(157.)\n",
      "tensor(158.)\n",
      "tensor(159.)\n",
      "tensor(160.)\n",
      "tensor(161.)\n",
      "tensor(162.)\n",
      "tensor(163.)\n",
      "tensor(164.)\n",
      "tensor(165.)\n",
      "tensor(166.)\n",
      "tensor(167.)\n",
      "tensor(168.)\n",
      "tensor(169.)\n",
      "tensor(170.)\n",
      "tensor(171.)\n",
      "tensor(172.)\n",
      "tensor(173.)\n",
      "tensor(174.)\n",
      "tensor(175.)\n",
      "tensor(176.)\n",
      "tensor(177.)\n",
      "tensor(178.)\n",
      "tensor(179.)\n",
      "tensor(180.)\n",
      "tensor(181.)\n",
      "tensor(182.)\n",
      "tensor(183.)\n",
      "tensor(184.)\n",
      "tensor(185.)\n",
      "tensor(186.)\n",
      "tensor(187.)\n",
      "tensor(188.)\n",
      "tensor(189.)\n",
      "tensor(190.)\n",
      "tensor(191.)\n",
      "tensor(192.)\n",
      "tensor(193.)\n",
      "tensor(194.)\n",
      "tensor(195.)\n",
      "tensor(196.)\n",
      "tensor(197.)\n",
      "tensor(198.)\n",
      "tensor(199.)\n",
      "tensor(200.)\n",
      "tensor(201.)\n",
      "tensor(202.)\n",
      "tensor(203.)\n",
      "tensor(204.)\n",
      "tensor(205.)\n",
      "tensor(206.)\n",
      "tensor(207.)\n",
      "tensor(208.)\n",
      "tensor(209.)\n",
      "tensor(210.)\n",
      "tensor(211.)\n",
      "tensor(212.)\n",
      "tensor(213.)\n",
      "tensor(214.)\n",
      "tensor(215.)\n",
      "tensor(216.)\n",
      "tensor(217.)\n",
      "tensor(218.)\n",
      "tensor(219.)\n",
      "tensor(220.)\n",
      "tensor(221.)\n",
      "tensor(222.)\n",
      "tensor(223.)\n",
      "tensor(224.)\n",
      "tensor(225.)\n",
      "tensor(226.)\n",
      "tensor(227.)\n",
      "tensor(228.)\n",
      "tensor(229.)\n",
      "tensor(230.)\n",
      "tensor(231.)\n",
      "tensor(232.)\n",
      "tensor(233.)\n",
      "tensor(234.)\n",
      "tensor(235.)\n",
      "tensor(236.)\n",
      "tensor(237.)\n",
      "tensor(238.)\n",
      "tensor(239.)\n",
      "tensor(240.)\n"
     ]
    },
    {
     "ename": "KeyboardInterrupt",
     "evalue": "",
     "output_type": "error",
     "traceback": [
      "\u001b[0;31m---------------------------------------------------------------------------\u001b[0m",
      "\u001b[0;31mKeyboardInterrupt\u001b[0m                         Traceback (most recent call last)",
      "Cell \u001b[0;32mIn[1], line 9\u001b[0m\n\u001b[1;32m      7\u001b[0m random_idx \u001b[38;5;241m=\u001b[39m torch\u001b[38;5;241m.\u001b[39mrandint(\u001b[38;5;241m0\u001b[39m,n,(\u001b[38;5;241m3\u001b[39m,))\n\u001b[1;32m      8\u001b[0m cpu_mem_destroyer[random_idx[\u001b[38;5;241m0\u001b[39m],random_idx[\u001b[38;5;241m1\u001b[39m],random_idx[\u001b[38;5;241m2\u001b[39m]] \u001b[38;5;241m+\u001b[39m\u001b[38;5;241m=\u001b[39m \u001b[38;5;241m1\u001b[39m\n\u001b[0;32m----> 9\u001b[0m \u001b[43mtime\u001b[49m\u001b[38;5;241;43m.\u001b[39;49m\u001b[43msleep\u001b[49m\u001b[43m(\u001b[49m\u001b[38;5;241;43m1.0\u001b[39;49m\u001b[43m)\u001b[49m\n\u001b[1;32m     10\u001b[0m \u001b[38;5;28mprint\u001b[39m(cpu_mem_destroyer\u001b[38;5;241m.\u001b[39msum())\n",
      "\u001b[0;31mKeyboardInterrupt\u001b[0m: "
     ]
    }
   ],
   "source": [
    "import torch\n",
    "import time\n",
    "n = 2400\n",
    "cpu_mem_destroyer =torch.zeros([n]*3)\n",
    "\n",
    "for _ in range(1000):\n",
    "    random_idx = torch.randint(0,n,(3,))\n",
    "    cpu_mem_destroyer[random_idx[0],random_idx[1],random_idx[2]] += 1\n",
    "    time.sleep(1.0)\n",
    "    print(cpu_mem_destroyer.sum())"
   ]
  },
  {
   "cell_type": "code",
   "execution_count": 38,
   "metadata": {},
   "outputs": [
    {
     "name": "stderr",
     "output_type": "stream",
     "text": [
      "/home/jloch/miniconda3/envs/diff-env/lib/python3.8/site-packages/torch/distributed/distributed_c10d.py:347: UserWarning: torch.distributed.reduce_op is deprecated, please use torch.distributed.ReduceOp instead\n",
      "  warnings.warn(\n"
     ]
    },
    {
     "name": "stdout",
     "output_type": "stream",
     "text": [
      "                       types |   # objects |   total size\n",
      "============================ | =========== | ============\n",
      "                        list |      230671 |     57.54 MB\n",
      "                         str |      361844 |     35.83 MB\n",
      "                        dict |       64737 |     20.63 MB\n",
      "                        code |       42625 |      7.27 MB\n",
      "                        type |        5459 |      4.81 MB\n",
      "                       tuple |       37891 |      2.09 MB\n",
      "                         int |       73617 |      1.98 MB\n",
      "                         set |        1601 |      1.03 MB\n",
      "                torch.Tensor |       13002 |   1015.78 KB\n",
      "  builtin_function_or_method |       11122 |    782.02 KB\n",
      "                     weakref |        7786 |    547.45 KB\n",
      "           getset_descriptor |        8306 |    519.12 KB\n",
      "                        cell |       11447 |    447.15 KB\n",
      "           method_descriptor |        5705 |    401.13 KB\n",
      "         function (__init__) |        2795 |    371.21 KB\n"
     ]
    }
   ],
   "source": [
    "from pympler import tracker\n",
    "from pympler import muppy\n",
    "\n",
    "from pympler import summary\n",
    "a = [torch.zeros(1) for _ in range(10000)]\n",
    "\n",
    "\n",
    "\n",
    "all_objects = muppy.get_objects()\n",
    "\n",
    "sum1 = summary.summarize(all_objects)\n",
    "summary.print_(sum1) "
   ]
  },
  {
   "cell_type": "code",
   "execution_count": 40,
   "metadata": {},
   "outputs": [
    {
     "data": {
      "text/plain": [
       "23706"
      ]
     },
     "execution_count": 40,
     "metadata": {},
     "output_type": "execute_result"
    }
   ],
   "source": [
    "len([\"torch.Tensor\"==item[0] for item in sum1])"
   ]
  },
  {
   "cell_type": "code",
   "execution_count": 43,
   "metadata": {},
   "outputs": [
    {
     "data": {
      "text/plain": [
       "1"
      ]
     },
     "execution_count": 43,
     "metadata": {},
     "output_type": "execute_result"
    }
   ],
   "source": [
    "len([item for item in sum1 if \"torch.Tensor\"==item[0]])"
   ]
  },
  {
   "cell_type": "code",
   "execution_count": 46,
   "metadata": {},
   "outputs": [
    {
     "data": {
      "text/plain": [
       "1015.78125"
      ]
     },
     "execution_count": 46,
     "metadata": {},
     "output_type": "execute_result"
    }
   ],
   "source": [
    "(1040160)/1024"
   ]
  },
  {
   "cell_type": "code",
   "execution_count": 42,
   "metadata": {},
   "outputs": [
    {
     "data": {
      "text/plain": [
       "[['torch.Tensor', 13002, 1040160]]"
      ]
     },
     "execution_count": 42,
     "metadata": {},
     "output_type": "execute_result"
    }
   ],
   "source": [
    "[item for item in sum1 if \"torch.Tensor\"==item[0]][:5]"
   ]
  },
  {
   "cell_type": "code",
   "execution_count": 10,
   "metadata": {},
   "outputs": [
    {
     "name": "stdout",
     "output_type": "stream",
     "text": [
      "                           types |   # objects |   total size\n",
      "================================ | =========== | ============\n",
      "                            code |           1 |    176     B\n",
      "           function (store_info) |           1 |    136     B\n",
      "                         weakref |           1 |     72     B\n",
      "                _ast.Interactive |           1 |     48     B\n",
      "                             str |           0 |     22     B\n",
      "                     _ast.Module |          -1 |    -48     B\n",
      "  pympler.tracker.SummaryTracker |          -1 |    -48     B\n",
      "                   list_iterator |          -1 |    -48     B\n",
      "      builtin_function_or_method |          -1 |    -72     B\n",
      "                            cell |          -4 |   -160     B\n",
      "                          method |          -3 |   -192     B\n",
      "                            dict |          -1 |   -232     B\n",
      "             function (<lambda>) |          -2 |   -272     B\n",
      "                           tuple |         -10 |   -544     B\n",
      "                            list |          -6 |   -632     B\n"
     ]
    }
   ],
   "source": [
    "tr = tracker.SummaryTracker()\n",
    "tr.print_diff() "
   ]
  },
  {
   "cell_type": "code",
   "execution_count": 19,
   "metadata": {},
   "outputs": [
    {
     "name": "stderr",
     "output_type": "stream",
     "text": [
      "/home/jloch/miniconda3/envs/diff-env/lib/python3.8/site-packages/torch/distributed/distributed_c10d.py:347: UserWarning: torch.distributed.reduce_op is deprecated, please use torch.distributed.ReduceOp instead\n",
      "  warnings.warn(\n"
     ]
    },
    {
     "name": "stdout",
     "output_type": "stream",
     "text": [
      "                       types |   # objects |   total size\n",
      "============================ | =========== | ============\n",
      "                        list |       23686 |      2.00 MB\n",
      "                         str |       23689 |      1.69 MB\n",
      "                         int |        5302 |    144.98 KB\n",
      "                        dict |         115 |     29.16 KB\n",
      "                        code |           2 |      6.39 KB\n",
      "                  re.Pattern |          10 |      2.03 KB\n",
      "                       bytes |          21 |      2.00 KB\n",
      "  builtin_function_or_method |          15 |      1.05 KB\n",
      "                       tuple |          18 |      1.05 KB\n",
      "           member_descriptor |          15 |    960     B\n",
      "                     weakref |           9 |    648     B\n",
      "         function (<lambda>) |           2 |    272     B\n",
      "                        type |           0 |    240     B\n",
      "          wrapper_descriptor |           3 |    216     B\n",
      "                        cell |           5 |    200     B\n"
     ]
    },
    {
     "ename": "TypeError",
     "evalue": "object of type 'NoneType' has no len()",
     "output_type": "error",
     "traceback": [
      "\u001b[0;31m---------------------------------------------------------------------------\u001b[0m",
      "\u001b[0;31mTypeError\u001b[0m                                 Traceback (most recent call last)",
      "Cell \u001b[0;32mIn[19], line 1\u001b[0m\n\u001b[0;32m----> 1\u001b[0m \u001b[38;5;28;43mlen\u001b[39;49m\u001b[43m(\u001b[49m\u001b[43mtr\u001b[49m\u001b[38;5;241;43m.\u001b[39;49m\u001b[43mprint_diff\u001b[49m\u001b[43m(\u001b[49m\u001b[43m)\u001b[49m\u001b[43m)\u001b[49m\n",
      "\u001b[0;31mTypeError\u001b[0m: object of type 'NoneType' has no len()"
     ]
    }
   ],
   "source": [
    "len(tr.print_diff())"
   ]
  },
  {
   "cell_type": "code",
   "execution_count": 10,
   "metadata": {},
   "outputs": [
    {
     "name": "stdout",
     "output_type": "stream",
     "text": [
      "800160\n"
     ]
    }
   ],
   "source": [
    "import gc,sys\n",
    "#a = [torch.randn(10) for _ in range(10000)]\n",
    "def get_torch_footprint():\n",
    "    return sum([sys.getsizeof(obj) for obj in gc.get_objects() if torch.is_tensor(obj)])\n",
    "\n",
    "print(get_torch_footprint())"
   ]
  },
  {
   "cell_type": "code",
   "execution_count": 1,
   "metadata": {},
   "outputs": [],
   "source": [
    "python train.py --model_name points_debug+test --seed 7\n",
    "python train.py --model_name points_debug+test --seed 8\n",
    "python train.py --model_name points_debug+test --seed 9\n",
    "python train.py --model_name points_debug+test --seed 10\n",
    "python train.py --model_name points_debug+test --seed 11\n",
    "f"
   ]
  },
  {
   "cell_type": "code",
   "execution_count": 48,
   "metadata": {},
   "outputs": [
    {
     "name": "stdout",
     "output_type": "stream",
     "text": [
      "The autoreload extension is already loaded. To reload it, use:\n",
      "  %reload_ext autoreload\n"
     ]
    },
    {
     "data": {
      "text/plain": [
       "<matplotlib.image.AxesImage at 0x7e7674494e50>"
      ]
     },
     "execution_count": 48,
     "metadata": {},
     "output_type": "execute_result"
    },
    {
     "data": {
      "image/png": "[encoded data removed]",
      "text/plain": [
       "<Figure size 640x480 with 1 Axes>"
      ]
     },
     "metadata": {},
     "output_type": "display_data"
    }
   ],
   "source": [
    "%load_ext autoreload\n",
    "%autoreload 2\n",
    "import os,sys\n",
    "sys.path.append('./source/')\n",
    "import numpy as np\n",
    "import torch\n",
    "import matplotlib.pyplot as plt\n",
    "from source.plot_utils import analog_bits_on_image,mask_overlay_smooth\n",
    "from source.datasets import AnalogBits\n",
    "\n",
    "def analog_bits_on_image2(x_bits,im,ab):\n",
    "    assert isinstance(x_bits,torch.Tensor), \"analog_bits_on_image expects a torch.Tensor\"\n",
    "    x_bits_np = x_bits.cpu().numpy()\n",
    "    mask = np.zeros((im.shape[0],im.shape[1],2**ab.num_bits))\n",
    "\n",
    "    for i in range(2**ab.num_bits):\n",
    "        pure = ab.int2bit(np.array([i]).reshape(1,1,1,1))\n",
    "        mask[:,:,i] = np.exp((pure*x_bits_np*5).mean(1))\n",
    "    mask = mask/np.sum(mask,axis=2,keepdims=True)\n",
    "    return mask_overlay_smooth(im,mask,alpha_mask=1.0)\n",
    "\n",
    "def analog_bits_on_image3(x_bits,im,ab):\n",
    "    #sees bits as probs\n",
    "    assert isinstance(x_bits,torch.Tensor), \"analog_bits_on_image expects a torch.Tensor\"\n",
    "    x_bits_np = x_bits.cpu().numpy()\n",
    "    mask = np.zeros((im.shape[0],im.shape[1],2**ab.num_bits))\n",
    "\n",
    "    for i in range(2**ab.num_bits):\n",
    "        pure = ab.int2bit(np.array([i]).reshape(1,1,1,1))\n",
    "        mask[:,:,i] = np.prod(1-0.5*np.abs(pure-x_bits_np)[0],axis=0)\n",
    "    return mask_overlay_smooth(im,mask,alpha_mask=1.0)\n",
    "    \n",
    "\n",
    "num_bits = 2\n",
    "ab = AnalogBits(num_bits=num_bits)\n",
    "\n",
    "n = 100\n",
    "X,Y = torch.meshgrid(torch.linspace(-1,1,n),torch.linspace(-1,1,n))\n",
    "bits = torch.stack([X,Y],dim=0)\n",
    "im = np.zeros((n,n,3))+0.5\n",
    "plt.imshow(analog_bits_on_image3(bits,im,ab))\n"
   ]
  },
  {
   "cell_type": "code",
   "execution_count": 52,
   "metadata": {},
   "outputs": [
    {
     "data": {
      "text/plain": [
       "1.0000001192092896"
      ]
     },
     "execution_count": 52,
     "metadata": {},
     "output_type": "execute_result"
    }
   ],
   "source": [
    "analog_bits_on_image3(bits,im,ab).sum(2).max()"
   ]
  }
 ],
 "metadata": {
  "kernelspec": {
   "display_name": "segdiff3",
   "language": "python",
   "name": "python3"
  },
  "language_info": {
   "codemirror_mode": {
    "name": "ipython",
    "version": 3
   },
   "file_extension": ".py",
   "mimetype": "text/x-python",
   "name": "python",
   "nbconvert_exporter": "python",
   "pygments_lexer": "ipython3",
   "version": "3.8.18"
  }
 },
 "nbformat": 4,
 "nbformat_minor": 2
}
